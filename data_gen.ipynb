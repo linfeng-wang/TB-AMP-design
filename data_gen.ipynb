{
 "cells": [
  {
   "cell_type": "code",
   "execution_count": 2,
   "metadata": {},
   "outputs": [],
   "source": [
    "import pandas as pd\n",
    "import numpy as np\n",
    "import matplotlib.pyplot as plt\n",
    "from icecream import ic\n"
   ]
  },
  {
   "cell_type": "code",
   "execution_count": null,
   "metadata": {},
   "outputs": [],
   "source": [
    "antiTBamp = pd.read_excel('antiTBamp-prod.xlsx')\n",
    "additional = pd.read_csv('grampa.csv')\n",
    "negatives = pd.read_csv('uniprotkb_length_TO_20_NOT_antimicrobia_2025_02_11.tsv', sep='\\t')\n",
    "\n",
    "antitbpred = pd.read_csv('antitbpred.csv', header=None) \n",
    "dbaasp = pd.read_csv('dbaasp.csv')\n",
    "dramp = pd.read_excel('dramp.xlsx')"
   ]
  },
  {
   "cell_type": "code",
   "execution_count": 57,
   "metadata": {},
   "outputs": [],
   "source": [
    "tuberculosis_rows = dramp[dramp['Target_Organism'].str.contains('tuberculosis', na=False)]\n"
   ]
  },
  {
   "cell_type": "code",
   "execution_count": 63,
   "metadata": {},
   "outputs": [],
   "source": [
    "dramp_new = []\n",
    "for x in dramp['Sequence']:\n",
    "    if x in list(antiTBamp['Sequences']):\n",
    "        dramp_new.append(x)\n",
    "        # additional = additional[additional['sequence']!=x]"
   ]
  },
  {
   "cell_type": "code",
   "execution_count": 46,
   "metadata": {},
   "outputs": [
    {
     "name": "stderr",
     "output_type": "stream",
     "text": [
      "<>:2: SyntaxWarning: invalid escape sequence '\\('\n",
      "<>:2: SyntaxWarning: invalid escape sequence '\\('\n",
      "/tmp/ipykernel_38867/512127741.py:2: SyntaxWarning: invalid escape sequence '\\('\n",
      "  antiTBamp = antiTBamp[~antiTBamp['Sequences'].str.contains('\\(')]\n"
     ]
    }
   ],
   "source": [
    "additional = additional[additional['bacterium']=='M. tuberculosis']\n",
    "antiTBamp = antiTBamp[~antiTBamp['Sequences'].str.contains('\\(')]"
   ]
  },
  {
   "cell_type": "code",
   "execution_count": 47,
   "metadata": {},
   "outputs": [],
   "source": [
    "additional_new = []\n",
    "for x in additional['sequence']:\n",
    "    if x in list(antiTBamp['Sequences']):\n",
    "        additional_new.append(x)\n",
    "        # additional = additional[additional['sequence']!=x]\n",
    "        \n",
    "antitbpred_new = []\n",
    "for x in antitbpred[0]:\n",
    "    if x in antiTBamp['Sequences'].values:\n",
    "        continue\n",
    "    else:\n",
    "        antitbpred_new.append(x)\n",
    "        \n"
   ]
  },
  {
   "cell_type": "code",
   "execution_count": 48,
   "metadata": {},
   "outputs": [],
   "source": [
    "dbaasp_new = []\n",
    "for x in dbaasp['SEQUENCE']:\n",
    "    if x in antiTBamp['Sequences'].values:\n",
    "        continue\n",
    "    else:\n",
    "        dbaasp_new.append(x)\n",
    "        \n",
    "        "
   ]
  },
  {
   "cell_type": "code",
   "execution_count": 65,
   "metadata": {},
   "outputs": [],
   "source": [
    "apd3 = ['LLGDFFRKSKEKIGKEFKRIVQRIKDFLRNLVPRTES',\n",
    "        'GRDYRTCLTIVQKLKKMVDKPTQRSVSNAATRVCRTGRSRWRDVCRNFMRRYQSRVTQGLVAGETAQQICEDLR',\n",
    "        'QNERYEKFLRQHYDAKPNGRDDRYCESMMKERKLTSPCKDVNTFIHGTKKNIRAICGKKGSPYGENFRISNSPFQITTCTHSGASPRPPCGYRAFKDFRYIVIACEDGWPVHFDESFISP',\n",
    "        'KPKGMTSSQWFKIQHMQPSPQACNSAMKNINKHTKRCKDLNTFLHEPFSSVAATCQTPKIACKNGDKNCHQSHGAVSLTMCKLTSGKYPNCRYKEKRQNKSYVVACKPPQKKDSQQFHLVPVHLDRVL',\n",
    "        'FISQIISTARI',\n",
    "        'GLRRLFADQLVGRRNI',\n",
    "        'SCTTCVCTCSCCTT',\n",
    "        'LIAGLAANFLPQILCKIARKC',\n",
    "        'LPFFLLSLIPSAISAIKKI',\n",
    "        'FWGFLGKLAMKAVPSLIGGNKSSSK',\n",
    "        'VPSLPLVPLG',\n",
    "        'ACVNQCPDAIDRFIVKDKGCHGVEKKYYKQVYVACMNGQHLYCRTEWGGPCQL',\n",
    "        'RECRIGNGQCKNQCHENEIRIAYCIRPGTHCCLQQ',\n",
    "        'KKCWNGGRCRKKCKENEKPIGYCRNGKKCCVN',\n",
    "        'VMWCYVFGYGFNCAVWV',   \n",
    "        ]\n"
   ]
  },
  {
   "cell_type": "code",
   "execution_count": 66,
   "metadata": {},
   "outputs": [],
   "source": [
    "amp = antiTBamp['Sequences'].to_list() + additional_new + antitbpred_new + dbaasp_new + dramp_new + apd3"
   ]
  },
  {
   "cell_type": "code",
   "execution_count": 67,
   "metadata": {},
   "outputs": [],
   "source": [
    "amp = list({seq.lower(): seq for seq in amp}.values())        \n",
    "\n"
   ]
  },
  {
   "cell_type": "code",
   "execution_count": 68,
   "metadata": {},
   "outputs": [
    {
     "data": {
      "text/plain": [
       "361"
      ]
     },
     "execution_count": 68,
     "metadata": {},
     "output_type": "execute_result"
    }
   ],
   "source": [
    "len(amp)"
   ]
  }
 ],
 "metadata": {
  "kernelspec": {
   "display_name": "new-ml",
   "language": "python",
   "name": "python3"
  },
  "language_info": {
   "codemirror_mode": {
    "name": "ipython",
    "version": 3
   },
   "file_extension": ".py",
   "mimetype": "text/x-python",
   "name": "python",
   "nbconvert_exporter": "python",
   "pygments_lexer": "ipython3",
   "version": "3.12.7"
  }
 },
 "nbformat": 4,
 "nbformat_minor": 2
}
